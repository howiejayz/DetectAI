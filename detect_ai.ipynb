{
 "cells": [
  {
   "cell_type": "code",
   "execution_count": 1,
   "id": "b1caa35e",
   "metadata": {
    "_cell_guid": "b1076dfc-b9ad-4769-8c92-a6c4dae69d19",
    "_uuid": "8f2839f25d086af736a60e9eeb907d3b93b6e0e5",
    "execution": {
     "iopub.execute_input": "2023-11-05T02:24:23.545450Z",
     "iopub.status.busy": "2023-11-05T02:24:23.545062Z",
     "iopub.status.idle": "2023-11-05T02:24:47.784082Z",
     "shell.execute_reply": "2023-11-05T02:24:47.783269Z"
    },
    "papermill": {
     "duration": 24.246907,
     "end_time": "2023-11-05T02:24:47.786657",
     "exception": false,
     "start_time": "2023-11-05T02:24:23.539750",
     "status": "completed"
    },
    "tags": []
   },
   "outputs": [
    {
     "name": "stderr",
     "output_type": "stream",
     "text": [
      "/opt/conda/lib/python3.10/site-packages/scipy/__init__.py:146: UserWarning: A NumPy version >=1.16.5 and <1.23.0 is required for this version of SciPy (detected version 1.23.5\n",
      "  warnings.warn(f\"A NumPy version >={np_minversion} and <{np_maxversion}\"\n"
     ]
    }
   ],
   "source": [
    "import torch\n",
    "import torch.nn as nn\n",
    "import torch.optim as optim\n",
    "import pandas as pd\n",
    "from transformers import BertTokenizer, BertForSequenceClassification, get_linear_schedule_with_warmup\n",
    "from torch.utils.data import Dataset, DataLoader\n",
    "from torch.optim import AdamW\n",
    "\n",
    "from tqdm import tqdm\n",
    "import matplotlib.pyplot as plt\n",
    "from IPython.display import display, clear_output"
   ]
  },
  {
   "cell_type": "code",
   "execution_count": 2,
   "id": "b6c18781",
   "metadata": {
    "execution": {
     "iopub.execute_input": "2023-11-05T02:24:47.795953Z",
     "iopub.status.busy": "2023-11-05T02:24:47.795336Z",
     "iopub.status.idle": "2023-11-05T02:24:48.029935Z",
     "shell.execute_reply": "2023-11-05T02:24:48.029070Z"
    },
    "papermill": {
     "duration": 0.241613,
     "end_time": "2023-11-05T02:24:48.032402",
     "exception": false,
     "start_time": "2023-11-05T02:24:47.790789",
     "status": "completed"
    },
    "tags": []
   },
   "outputs": [],
   "source": [
    "# Data Preparation\n",
    "df = pd.read_csv('/kaggle/input/daigt-external-dataset/daigt_external_dataset.csv')\n",
    "df['combined_text'] = df['text'].combine_first(df['source_text'])\n",
    "df['label'] = df['text'].notna().astype(int)"
   ]
  },
  {
   "cell_type": "code",
   "execution_count": 3,
   "id": "d1653f58",
   "metadata": {
    "execution": {
     "iopub.execute_input": "2023-11-05T02:24:48.041118Z",
     "iopub.status.busy": "2023-11-05T02:24:48.040829Z",
     "iopub.status.idle": "2023-11-05T02:24:48.105950Z",
     "shell.execute_reply": "2023-11-05T02:24:48.105190Z"
    },
    "papermill": {
     "duration": 0.072004,
     "end_time": "2023-11-05T02:24:48.108189",
     "exception": false,
     "start_time": "2023-11-05T02:24:48.036185",
     "status": "completed"
    },
    "tags": []
   },
   "outputs": [],
   "source": [
    "# Tokenization & Dataset preparation\n",
    "tokenizer = BertTokenizer.from_pretrained('/kaggle/input/bert-base-uncased')\n",
    "max_length = 256  # Adjust this based on your dataset"
   ]
  },
  {
   "cell_type": "code",
   "execution_count": 4,
   "id": "5c103361",
   "metadata": {
    "execution": {
     "iopub.execute_input": "2023-11-05T02:24:48.116706Z",
     "iopub.status.busy": "2023-11-05T02:24:48.116445Z",
     "iopub.status.idle": "2023-11-05T02:24:48.123839Z",
     "shell.execute_reply": "2023-11-05T02:24:48.123091Z"
    },
    "papermill": {
     "duration": 0.01386,
     "end_time": "2023-11-05T02:24:48.125911",
     "exception": false,
     "start_time": "2023-11-05T02:24:48.112051",
     "status": "completed"
    },
    "tags": []
   },
   "outputs": [],
   "source": [
    "class TextDataset(Dataset):\n",
    "    def __init__(self, texts, labels):\n",
    "        self.texts = texts\n",
    "        self.labels = labels\n",
    "\n",
    "    def __len__(self):\n",
    "        return len(self.texts)\n",
    "\n",
    "    def __getitem__(self, idx):\n",
    "        text = self.texts[idx]\n",
    "        label = self.labels[idx]\n",
    "        inputs = tokenizer.encode_plus(text, \n",
    "                                       add_special_tokens=True, \n",
    "                                       max_length=max_length, \n",
    "                                       padding='max_length', \n",
    "                                       truncation=True, \n",
    "                                       return_tensors='pt')\n",
    "        input_ids = inputs['input_ids'].squeeze()\n",
    "        attention_mask = inputs['attention_mask'].squeeze()\n",
    "        return input_ids, attention_mask, label"
   ]
  },
  {
   "cell_type": "code",
   "execution_count": 5,
   "id": "cc976fbe",
   "metadata": {
    "execution": {
     "iopub.execute_input": "2023-11-05T02:24:48.134534Z",
     "iopub.status.busy": "2023-11-05T02:24:48.134289Z",
     "iopub.status.idle": "2023-11-05T02:24:48.184684Z",
     "shell.execute_reply": "2023-11-05T02:24:48.183977Z"
    },
    "papermill": {
     "duration": 0.057067,
     "end_time": "2023-11-05T02:24:48.186773",
     "exception": false,
     "start_time": "2023-11-05T02:24:48.129706",
     "status": "completed"
    },
    "tags": []
   },
   "outputs": [],
   "source": [
    "# Define the train_size\n",
    "train_size = int(0.8 * len(df))\n",
    "val_size = len(df) - train_size\n",
    "\n",
    "# Split the indices of the dataframe\n",
    "indices = torch.randperm(len(df)).tolist()\n",
    "train_indices = indices[:train_size]\n",
    "val_indices = indices[train_size:]\n",
    "\n",
    "# Extract train and validation dataframes using the indices\n",
    "train_df = df.iloc[train_indices]\n",
    "val_df = df.iloc[val_indices]\n",
    "\n",
    "# Initialize your TextDataset and DataLoaders\n",
    "train_dataset = TextDataset(train_df['combined_text'].tolist(), train_df['label'].tolist())\n",
    "val_dataset = TextDataset(val_df['combined_text'].tolist(), val_df['label'].tolist())\n",
    "train_loader = DataLoader(train_dataset, batch_size=32, shuffle=True)\n",
    "val_loader = DataLoader(val_dataset, batch_size=32)"
   ]
  },
  {
   "cell_type": "code",
   "execution_count": 6,
   "id": "fad0344c",
   "metadata": {
    "execution": {
     "iopub.execute_input": "2023-11-05T02:24:48.195644Z",
     "iopub.status.busy": "2023-11-05T02:24:48.194958Z",
     "iopub.status.idle": "2023-11-05T02:25:00.965562Z",
     "shell.execute_reply": "2023-11-05T02:25:00.964692Z"
    },
    "papermill": {
     "duration": 12.777412,
     "end_time": "2023-11-05T02:25:00.967876",
     "exception": false,
     "start_time": "2023-11-05T02:24:48.190464",
     "status": "completed"
    },
    "tags": []
   },
   "outputs": [],
   "source": [
    "# Model\n",
    "model = BertForSequenceClassification.from_pretrained('/kaggle/input/bert-base-uncased', num_labels=2).to(torch.device('cuda' if torch.cuda.is_available() else 'cpu'))"
   ]
  },
  {
   "cell_type": "code",
   "execution_count": 7,
   "id": "3ecb0eb6",
   "metadata": {
    "execution": {
     "iopub.execute_input": "2023-11-05T02:25:00.976695Z",
     "iopub.status.busy": "2023-11-05T02:25:00.976069Z",
     "iopub.status.idle": "2023-11-05T02:25:00.982215Z",
     "shell.execute_reply": "2023-11-05T02:25:00.981438Z"
    },
    "papermill": {
     "duration": 0.01244,
     "end_time": "2023-11-05T02:25:00.984136",
     "exception": false,
     "start_time": "2023-11-05T02:25:00.971696",
     "status": "completed"
    },
    "tags": []
   },
   "outputs": [],
   "source": [
    "# Loss & Optimizer\n",
    "criterion = nn.BCEWithLogitsLoss()\n",
    "optimizer = AdamW(model.parameters(), lr=2e-5)\n",
    "scheduler = get_linear_schedule_with_warmup(optimizer, num_warmup_steps=0, num_training_steps=len(train_loader) * 3)"
   ]
  },
  {
   "cell_type": "code",
   "execution_count": 8,
   "id": "3e2a33b9",
   "metadata": {
    "execution": {
     "iopub.execute_input": "2023-11-05T02:25:00.992163Z",
     "iopub.status.busy": "2023-11-05T02:25:00.991904Z",
     "iopub.status.idle": "2023-11-05T02:30:50.749756Z",
     "shell.execute_reply": "2023-11-05T02:30:50.748735Z"
    },
    "papermill": {
     "duration": 349.76601,
     "end_time": "2023-11-05T02:30:50.753797",
     "exception": false,
     "start_time": "2023-11-05T02:25:00.987787",
     "status": "completed"
    },
    "tags": []
   },
   "outputs": [
    {
     "name": "stderr",
     "output_type": "stream",
     "text": [
      "Epoch 1 - Loss: 0.0136: 100%|██████████| 61/61 [01:56<00:00,  1.92s/it]\n"
     ]
    },
    {
     "name": "stdout",
     "output_type": "stream",
     "text": [
      "Epoch 1, Average Loss: 0.1203\n"
     ]
    },
    {
     "name": "stderr",
     "output_type": "stream",
     "text": [
      "Epoch 2 - Loss: 0.0080: 100%|██████████| 61/61 [01:56<00:00,  1.91s/it]\n"
     ]
    },
    {
     "name": "stdout",
     "output_type": "stream",
     "text": [
      "Epoch 2, Average Loss: 0.0098\n"
     ]
    },
    {
     "name": "stderr",
     "output_type": "stream",
     "text": [
      "Epoch 3 - Loss: 0.0065: 100%|██████████| 61/61 [01:56<00:00,  1.91s/it]"
     ]
    },
    {
     "name": "stdout",
     "output_type": "stream",
     "text": [
      "Epoch 3, Average Loss: 0.0069\n"
     ]
    },
    {
     "name": "stderr",
     "output_type": "stream",
     "text": [
      "\n"
     ]
    }
   ],
   "source": [
    "# Training loop\n",
    "training_losses = []\n",
    "num_epochs = 3\n",
    "for epoch in range(num_epochs):\n",
    "    model.train()\n",
    "    total_loss = 0\n",
    "    \n",
    "    # Wrap the DataLoader with tqdm for a progress bar\n",
    "    progress_bar = tqdm(train_loader, desc=f\"Epoch {epoch+1}\")\n",
    "    for input_ids, attention_mask, labels in progress_bar:\n",
    "        input_ids, attention_mask, labels = input_ids.to(torch.device('cuda' if torch.cuda.is_available() else 'cpu')), attention_mask.to(torch.device('cuda' if torch.cuda.is_available() else 'cpu')), labels.to(torch.device('cuda' if torch.cuda.is_available() else 'cpu')).float()\n",
    "        optimizer.zero_grad()\n",
    "        # Get the logits from the model\n",
    "        logits = model(input_ids, attention_mask=attention_mask).logits\n",
    "        # Use only the logits for class 1\n",
    "        outputs = logits[:, 1]\n",
    "        loss = criterion(outputs, labels)\n",
    "        loss.backward()\n",
    "        optimizer.step()\n",
    "        scheduler.step()\n",
    "        total_loss += loss.item()\n",
    "        # Update tqdm description with the latest loss\n",
    "        progress_bar.set_description(f\"Epoch {epoch+1} - Loss: {loss.item():.4f}\")\n",
    "    \n",
    "    avg_loss = total_loss / len(train_loader)\n",
    "    print(f\"Epoch {epoch+1}, Average Loss: {avg_loss:.4f}\")"
   ]
  },
  {
   "cell_type": "code",
   "execution_count": 9,
   "id": "e3c94747",
   "metadata": {
    "execution": {
     "iopub.execute_input": "2023-11-05T02:30:50.823163Z",
     "iopub.status.busy": "2023-11-05T02:30:50.822865Z",
     "iopub.status.idle": "2023-11-05T02:31:05.717127Z",
     "shell.execute_reply": "2023-11-05T02:31:05.716152Z"
    },
    "papermill": {
     "duration": 14.931221,
     "end_time": "2023-11-05T02:31:05.719221",
     "exception": false,
     "start_time": "2023-11-05T02:30:50.788000",
     "status": "completed"
    },
    "tags": []
   },
   "outputs": [
    {
     "name": "stdout",
     "output_type": "stream",
     "text": [
      "Accuracy: 1.0\n"
     ]
    }
   ],
   "source": [
    "# Evaluation\n",
    "model.eval()\n",
    "correct = 0\n",
    "total = 0\n",
    "with torch.no_grad():\n",
    "    for input_ids, attention_mask, labels in val_loader:\n",
    "        input_ids, attention_mask, labels = input_ids.to(torch.device('cuda' if torch.cuda.is_available() else 'cpu')), attention_mask.to(torch.device('cuda' if torch.cuda.is_available() else 'cpu')), labels.to(torch.device('cuda' if torch.cuda.is_available() else 'cpu')).long()\n",
    "        outputs = model(input_ids, attention_mask=attention_mask).logits\n",
    "        preds = outputs.argmax(dim=1)  # get the index of the max log-probability\n",
    "        correct += (preds == labels).sum().item()\n",
    "        total += len(labels)\n",
    "\n",
    "print(f\"Accuracy: {correct / total}\")"
   ]
  },
  {
   "cell_type": "code",
   "execution_count": 10,
   "id": "d4a191b7",
   "metadata": {
    "execution": {
     "iopub.execute_input": "2023-11-05T02:31:05.784079Z",
     "iopub.status.busy": "2023-11-05T02:31:05.783491Z",
     "iopub.status.idle": "2023-11-05T02:31:05.856370Z",
     "shell.execute_reply": "2023-11-05T02:31:05.855589Z"
    },
    "papermill": {
     "duration": 0.107349,
     "end_time": "2023-11-05T02:31:05.858382",
     "exception": false,
     "start_time": "2023-11-05T02:31:05.751033",
     "status": "completed"
    },
    "tags": []
   },
   "outputs": [],
   "source": [
    "test_df = pd.read_csv('/kaggle/input/llm-detect-ai-generated-text/test_essays.csv')\n",
    "test_dataset = TextDataset(test_df['text'].tolist(), [0]*len(test_df))  # dummy labels\n",
    "test_loader = DataLoader(test_dataset, batch_size=32)\n",
    "\n",
    "# Model Inference\n",
    "model.eval()\n",
    "ids = test_df['id'].tolist()\n",
    "predictions = []\n",
    "\n",
    "with torch.no_grad():\n",
    "    for input_ids, attention_mask, _ in test_loader:\n",
    "        input_ids, attention_mask = input_ids.to(torch.device('cuda' if torch.cuda.is_available() else 'cpu')), attention_mask.to(torch.device('cuda' if torch.cuda.is_available() else 'cpu'))\n",
    "        outputs = model(input_ids, attention_mask=attention_mask).logits\n",
    "        ai_generated_logits = outputs[:, 1]  # take the logits for class `1` (generated by AI)\n",
    "        probs = torch.sigmoid(ai_generated_logits).cpu().numpy()\n",
    "        predictions.extend(probs)\n",
    "\n",
    "# Create submission.csv\n",
    "submission_df = pd.DataFrame({\n",
    "    'id': ids,\n",
    "    'generated': predictions\n",
    "})\n",
    "\n",
    "submission_df.to_csv('submission.csv', index=False)"
   ]
  }
 ],
 "metadata": {
  "kernelspec": {
   "display_name": "Python 3",
   "language": "python",
   "name": "python3"
  },
  "language_info": {
   "codemirror_mode": {
    "name": "ipython",
    "version": 3
   },
   "file_extension": ".py",
   "mimetype": "text/x-python",
   "name": "python",
   "nbconvert_exporter": "python",
   "pygments_lexer": "ipython3",
   "version": "3.10.12"
  },
  "papermill": {
   "default_parameters": {},
   "duration": 410.506179,
   "end_time": "2023-11-05T02:31:09.526460",
   "environment_variables": {},
   "exception": null,
   "input_path": "__notebook__.ipynb",
   "output_path": "__notebook__.ipynb",
   "parameters": {},
   "start_time": "2023-11-05T02:24:19.020281",
   "version": "2.4.0"
  }
 },
 "nbformat": 4,
 "nbformat_minor": 5
}

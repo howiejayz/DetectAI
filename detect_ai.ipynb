{
 "cells": [
  {
   "cell_type": "code",
   "execution_count": null,
   "metadata": {},
   "outputs": [],
   "source": [
    "import torch\n",
    "import torch.nn as nn\n",
    "import torch.optim as optim\n",
    "from torch.utils.data import Dataset, DataLoader\n",
    "import pandas as pd\n",
    "from transformers import BertTokenizer, BertModel"
   ]
  },
  {
   "cell_type": "code",
   "execution_count": null,
   "metadata": {},
   "outputs": [],
   "source": [
    "# Load your dataset into a pandas DataFrame\n",
    "df = pd.read_csv('/kaggle/input/daigt_external_dataset.csv')\n",
    "\n",
    "# Combine student and AI texts into one column and create labels (0 for student, 1 for AI)\n",
    "texts = list(df['text']) + list(df['source_text'])\n",
    "labels = [0]*len(df['text']) + [1]*len(df['source_text'])\n",
    "\n",
    "# Split data\n",
    "train_texts, test_texts, train_labels, test_labels = train_test_split(\n",
    "    texts, labels, test_size=0.2, random_state=42\n",
    ")\n",
    "\n",
    "# Tokenizer\n",
    "tokenizer = transformers.BertTokenizer.from_pretrained('bert-base-uncased')\n",
    "MAX_LEN = 256"
   ]
  },
  {
   "cell_type": "code",
   "execution_count": null,
   "metadata": {},
   "outputs": [],
   "source": [
    "class EssayDataset(Dataset):\n",
    "    def __init__(self, essay_ids, texts, labels, tokenizer, max_len):\n",
    "        self.essay_ids = essay_ids\n",
    "        self.texts = texts\n",
    "        self.labels = labels\n",
    "        self.tokenizer = tokenizer\n",
    "        self.max_len = max_len\n",
    "\n",
    "    def __len__(self):\n",
    "        return len(self.texts)\n",
    "\n",
    "    def __getitem__(self, idx):\n",
    "        text = str(self.texts[idx])\n",
    "        label = self.labels[idx]\n",
    "        encoding = self.tokenizer.encode_plus(\n",
    "            text,\n",
    "            add_special_tokens=True,\n",
    "            max_length=self.max_len,\n",
    "            return_token_type_ids=False,\n",
    "            pad_to_max_length=True,\n",
    "            return_attention_mask=True,\n",
    "            return_tensors='pt',\n",
    "        )\n",
    "        return {\n",
    "            'ids': encoding['input_ids'].flatten(),\n",
    "            'mask': encoding['attention_mask'].flatten(),\n",
    "            'labels': torch.tensor(label, dtype=torch.float),\n",
    "            'essay_id': self.essay_ids[idx]\n",
    "        }"
   ]
  },
  {
   "cell_type": "code",
   "execution_count": null,
   "metadata": {},
   "outputs": [],
   "source": [
    "class Classifier(nn.Module):\n",
    "    def __init__(self):\n",
    "        super(Classifier, self).__init__()\n",
    "        self.bert = BertModel.from_pretrained('bert-base-uncased')\n",
    "        self.dropout = nn.Dropout(0.3)\n",
    "        self.linear = nn.Linear(768, 1)\n",
    "\n",
    "    def forward(self, ids, mask):\n",
    "        _, pooled_output = self.bert(ids, attention_mask=mask)\n",
    "        output = self.dropout(pooled_output)\n",
    "        return self.linear(output)"
   ]
  },
  {
   "cell_type": "code",
   "execution_count": null,
   "metadata": {},
   "outputs": [],
   "source": [
    "def train_epoch(model, data_loader, loss_fn, optimizer, device):\n",
    "    model.train()\n",
    "    total_loss = 0\n",
    "    for d in data_loader:\n",
    "        ids = d[\"ids\"].to(device)\n",
    "        mask = d[\"mask\"].to(device)\n",
    "        labels = d[\"labels\"].unsqueeze(1).to(device)\n",
    "\n",
    "        optimizer.zero_grad()\n",
    "        outputs = model(ids, mask)\n",
    "        loss = loss_fn(outputs, labels)\n",
    "        loss.backward()\n",
    "        optimizer.step()\n",
    "        total_loss += loss.item()\n",
    "    return total_loss / len(data_loader)"
   ]
  },
  {
   "cell_type": "code",
   "execution_count": null,
   "metadata": {},
   "outputs": [],
   "source": [
    "def predict_probabilities(model, data_loader, device):\n",
    "    model.eval()\n",
    "    predictions = []\n",
    "    essay_ids = []\n",
    "    with torch.no_grad():\n",
    "        for d in data_loader:\n",
    "            input_ids = d[\"ids\"].to(device)\n",
    "            mask = d[\"mask\"].to(device)\n",
    "            outputs = model(input_ids, mask)\n",
    "            probs = torch.sigmoid(outputs).squeeze().tolist()\n",
    "            predictions.extend(probs)\n",
    "            essay_ids.extend(d[\"essay_id\"])\n",
    "    return essay_ids, predictions"
   ]
  },
  {
   "cell_type": "code",
   "execution_count": null,
   "metadata": {},
   "outputs": [],
   "source": [
    "# Replace with your dataset path\n",
    "train_df = pd.read_csv('your_training_dataset_path.csv')\n",
    "test_df = pd.read_csv('your_test_dataset_path.csv')\n",
    "\n",
    "# Prepare data loaders\n",
    "BATCH_SIZE = 16\n",
    "train_dataset = EssayDataset(essay_ids, texts, labels, tokenizer, MAX_LEN)\n",
    "train_loader = DataLoader(train_dataset, batch_size=BATCH_SIZE, shuffle=True)\n",
    "\n",
    "device = torch.device(\"cuda\" if torch.cuda.is_available() else \"cpu\")\n",
    "model = Classifier().to(device)\n",
    "optimizer = optim.Adam(model.parameters(), lr=1e-5)\n",
    "loss_fn = nn.BCEWithLogitsLoss()\n",
    "\n",
    "EPOCHS = 5\n",
    "for epoch in range(EPOCHS):\n",
    "    loss = train_epoch(model, train_loader, loss_fn, optimizer, device)\n",
    "    print(f\"Epoch {epoch + 1}/{EPOCHS} | Loss: {loss:.4f}\")\n",
    "\n",
    "# After training, predict on test set\n",
    "test_texts = test_df['text'].tolist()\n",
    "test_ids = test_df['id'].tolist()\n",
    "test_dataset = EssayDataset(test_ids, test_texts, [0]*len(test_texts), tokenizer, MAX_LEN)  # Dummy labels\n",
    "test_loader = DataLoader(test_dataset, batch_size=BATCH_SIZE, shuffle=False)\n",
    "\n",
    "ids, predictions = predict_probabilities(model, test_loader, device)"
   ]
  },
  {
   "cell_type": "code",
   "execution_count": null,
   "metadata": {},
   "outputs": [],
   "source": [
    "submission_df = pd.DataFrame({\n",
    "    'id': ids,\n",
    "    'generated': predictions\n",
    "})\n",
    "\n",
    "submission_df.to_csv('submission.csv', index=False)"
   ]
  }
 ],
 "metadata": {
  "kernelspec": {
   "display_name": "base",
   "language": "python",
   "name": "python3"
  },
  "language_info": {
   "codemirror_mode": {
    "name": "ipython",
    "version": 3
   },
   "file_extension": ".py",
   "mimetype": "text/x-python",
   "name": "python",
   "nbconvert_exporter": "python",
   "pygments_lexer": "ipython3",
   "version": "3.10.13"
  }
 },
 "nbformat": 4,
 "nbformat_minor": 2
}
